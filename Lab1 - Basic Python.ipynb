{
 "cells": [
  {
   "cell_type": "markdown",
   "metadata": {},
   "source": [
    "# Lab 1: Basic Python\n",
    "## Physics 325\n",
    "### Spring 2016\n",
    "This lab will follow sections of Chapter 1 in __Computational Physics With Python__ by *Eric Ayars*\n",
    "The goals are to practice the following python fundamentals:\n",
    " * Input\n",
    " * Print formatting\n",
    " * Array slicing\n",
    " * Control structures\n",
    "     * For\n",
    "     * While\n",
    "     * If/else\n",
    " * Functions"
   ]
  },
  {
   "cell_type": "markdown",
   "metadata": {},
   "source": [
    "Input options. Often programs can benefit from live user input. This is less useful in the notebook but it still works in a clever way:"
   ]
  },
  {
   "cell_type": "code",
   "execution_count": null,
   "metadata": {
    "collapsed": false
   },
   "outputs": [],
   "source": [
    "name = input(\"My name is: \")"
   ]
  },
  {
   "cell_type": "markdown",
   "metadata": {},
   "source": [
    "Now we can print the value of the variable `name`. Notice that in comparison to the book, we have to use parenthesis in the `print` statement. In Python3, `print` is a function and therefore takes arguments betwee `(` and `)`."
   ]
  },
  {
   "cell_type": "code",
   "execution_count": null,
   "metadata": {
    "collapsed": false
   },
   "outputs": [],
   "source": [
    "print(name)"
   ]
  },
  {
   "cell_type": "markdown",
   "metadata": {},
   "source": [
    "**1) Write a single cell that asks for a numeric value and then prints that value multiplied by 10 in a statement that says \"Your value times ten is equal to <>\" where <> is replaced with the proper value**"
   ]
  },
  {
   "cell_type": "code",
   "execution_count": null,
   "metadata": {
    "collapsed": false
   },
   "outputs": [],
   "source": [
    "# Solution\n",
    "value = input(\"Enter a number: \")\n",
    "print(\"Your value times ten is equal to:\",float(value)*10)"
   ]
  },
  {
   "cell_type": "markdown",
   "metadata": {},
   "source": [
    "There are many ways to use python to format printed strings. Unfortunately, the formatting examples on page 18 use an older-style string formatter that is not as automatic. Here is a quick overview of the newer style for python3:\n",
    "\n",
    "Write the string you want to display in quotes, and put a pair of curly braces `{}` wherever you want to have a variable appear. Then add the format method `.format()` with one argument per variable that needs to go in your string. That's it!"
   ]
  },
  {
   "cell_type": "code",
   "execution_count": null,
   "metadata": {
    "collapsed": false
   },
   "outputs": [],
   "source": [
    "\"{} is Pi\".format(3.14159)"
   ]
  },
  {
   "cell_type": "markdown",
   "metadata": {},
   "source": [
    "You can also specify rounding, format as a percentage, pick a different order, or select items from a list or array. For even more examples, <a href=\"https://docs.python.org/3.1/library/string.html\">read the docs</a>."
   ]
  },
  {
   "cell_type": "code",
   "execution_count": null,
   "metadata": {
    "collapsed": false
   },
   "outputs": [],
   "source": [
    "\"{:.6} is Pi rounded to 5 places\".format(3.14159265358979323)"
   ]
  },
  {
   "cell_type": "code",
   "execution_count": null,
   "metadata": {
    "collapsed": false
   },
   "outputs": [],
   "source": [
    "\"{:.1%} is Pi rounded to 5 places\".format(23/100)"
   ]
  },
  {
   "cell_type": "code",
   "execution_count": null,
   "metadata": {
    "collapsed": false
   },
   "outputs": [],
   "source": [
    "\"{2} is third, {1} is middle, {0} is first\".format(1,2,3)"
   ]
  },
  {
   "cell_type": "code",
   "execution_count": null,
   "metadata": {
    "collapsed": false
   },
   "outputs": [],
   "source": [
    "list = ['a','b']\n",
    "\"{0[0]} is the first item, and {0[1]} is the second item\".format(list)"
   ]
  },
  {
   "cell_type": "markdown",
   "metadata": {},
   "source": [
    "Using this knowledge, calculate the area of a circle with radius 23 cm. Print the area in square meters to 5 decimal places."
   ]
  },
  {
   "cell_type": "code",
   "execution_count": null,
   "metadata": {
    "collapsed": false
   },
   "outputs": [],
   "source": [
    "# Solution\n",
    "\"{:.6}\".format(3.14159*0.23**2)"
   ]
  },
  {
   "cell_type": "markdown",
   "metadata": {},
   "source": [
    "## Sequence types\n",
    "1. Write an example of each of the following sequence types: string, tuple, list, dictionary, array. In each case, select one element from the sequence in the appropriate way.\n",
    "2. How is the tuple different from the others?"
   ]
  },
  {
   "cell_type": "code",
   "execution_count": null,
   "metadata": {
    "collapsed": false
   },
   "outputs": [],
   "source": [
    "# Solution\n",
    "from numpy import array\n",
    "mystring = \"12345\"\n",
    "print(mystring[3])\n",
    "\n",
    "mytuple = (1,2,3,4,5)\n",
    "print(mytuple[3])\n",
    "\n",
    "mylist = [1,2,3,4,5]\n",
    "print(mylist[3])\n",
    "\n",
    "mydict = {1:5,2:3,5:3,7:5,3:4}\n",
    "print(mydict[3])\n",
    "\n",
    "myarray = array([1,2,3,4,5])\n",
    "print(myarray[3])\n",
    "\n",
    "# Tuple is immutable"
   ]
  },
  {
   "cell_type": "markdown",
   "metadata": {},
   "source": [
    "## Array slicing\n",
    "We will use arrays as one of the primary data types in this course. It is specifically built for numeric data and makes many mathematical operations very fast."
   ]
  },
  {
   "cell_type": "code",
   "execution_count": null,
   "metadata": {
    "collapsed": false
   },
   "outputs": [],
   "source": [
    "bigarray = array([[1,2,3,4,5,6,7,8,9],[2,4,6,8,10,12,14,16,18],[3,6,9,12,15,18,21,24,27]])\n",
    "bigarray"
   ]
  },
  {
   "cell_type": "code",
   "execution_count": null,
   "metadata": {
    "collapsed": false
   },
   "outputs": [],
   "source": [
    "# select all rows in the column 4:\n",
    "bigarray[:,4]"
   ]
  },
  {
   "cell_type": "code",
   "execution_count": null,
   "metadata": {
    "collapsed": false
   },
   "outputs": [],
   "source": [
    "# select row 2:\n",
    "bigarray[2,:]"
   ]
  },
  {
   "cell_type": "code",
   "execution_count": null,
   "metadata": {
    "collapsed": false
   },
   "outputs": [],
   "source": [
    "# select columns 4 through 6:\n",
    "bigarray[:,4:6]"
   ]
  },
  {
   "cell_type": "markdown",
   "metadata": {},
   "source": [
    "Why only two columns, aren't 4 through 6 three values: 4,5,6? It turns out \"slicing\" is like cutting with a knife, so the slice cuts _between_ the actual data in the array. The figure below helps illustrate this:\n",
    "<img src=\"http://www.bogotobogo.com/python/images/python_strings/string_diagram.png\">\n",
    "The figure also shows how negative slices work: they count backwards from the end of the array."
   ]
  },
  {
   "cell_type": "code",
   "execution_count": null,
   "metadata": {
    "collapsed": false
   },
   "outputs": [],
   "source": [
    "bigarray[:,-1]"
   ]
  },
  {
   "cell_type": "code",
   "execution_count": null,
   "metadata": {
    "collapsed": false
   },
   "outputs": [],
   "source": [
    "bigarray[:,-3:-1]"
   ]
  },
  {
   "cell_type": "markdown",
   "metadata": {
    "collapsed": true
   },
   "source": [
    "Notice that a slice that uses a range of negative values, still goes from right to left (largest negative first)."
   ]
  },
  {
   "cell_type": "code",
   "execution_count": null,
   "metadata": {
    "collapsed": false
   },
   "outputs": [],
   "source": [
    "bigarray[:,-1:-3]"
   ]
  },
  {
   "cell_type": "markdown",
   "metadata": {},
   "source": [
    "Otherwise it returns an empty array.\n",
    "\n",
    "The last tidbit of slicing is skip-slicing or strided-slicing. You can add a _third_ element after a second colon to specify the stride of the slice (i.e. how many slices to skip):"
   ]
  },
  {
   "cell_type": "code",
   "execution_count": null,
   "metadata": {
    "collapsed": false
   },
   "outputs": [],
   "source": [
    "bigarray[:,0:4:2]"
   ]
  },
  {
   "cell_type": "markdown",
   "metadata": {},
   "source": [
    "The first two numbers can be left out if you just want to get every other (or every nth) item:"
   ]
  },
  {
   "cell_type": "code",
   "execution_count": null,
   "metadata": {
    "collapsed": false
   },
   "outputs": [],
   "source": [
    "bigarray[:,::2]"
   ]
  },
  {
   "cell_type": "code",
   "execution_count": null,
   "metadata": {
    "collapsed": false
   },
   "outputs": [],
   "source": [
    "bigarray[:,::3]"
   ]
  },
  {
   "cell_type": "markdown",
   "metadata": {},
   "source": [
    "These are all really useful when you need them, but it doesn't turn out to be needed often.\n",
    "\n",
    "## Control structures\n",
    "\n",
    "Controlling the flow of a program is arguably the most important aspect of computer programming, and what makes programs so good at solving repetative problems. If you face a problem where the solution involves doing the same operation many times or on many objects, then a computer program is a great way to solve your problem. Python has three major control structures: _If_, _While_, and _For_.\n",
    "\n",
    "These are discussed in the book starting on Page 29.\n",
    "\n",
    "To understand _If_, you need to practice the conditionals and comparisons on Page 29. After running this first example, create four more comparisons that evaluate to True, and four that evaluate to False. Try to use different types of comparisons, and different object types (string, float, int, complex)."
   ]
  },
  {
   "cell_type": "code",
   "execution_count": null,
   "metadata": {
    "collapsed": false
   },
   "outputs": [],
   "source": [
    "5 > 2"
   ]
  },
  {
   "cell_type": "markdown",
   "metadata": {},
   "source": [
    "Use the syntax in example 1.6.1 to write two more _if_ statements using comparisons:"
   ]
  },
  {
   "cell_type": "code",
   "execution_count": null,
   "metadata": {
    "collapsed": false
   },
   "outputs": [],
   "source": [
    "from numpy import pi\n",
    "value = 3.14159\n",
    "if value > pi:\n",
    "    print(\"bigger\")"
   ]
  },
  {
   "cell_type": "markdown",
   "metadata": {},
   "source": [
    "There is a handy kind of _if_ that lets you test items in a list:"
   ]
  },
  {
   "cell_type": "code",
   "execution_count": null,
   "metadata": {
    "collapsed": false
   },
   "outputs": [],
   "source": [
    "name = 'Terry'\n",
    "cast = ('John', 'Eric', 'Terry', 'Graham', 'Terry', 'Michael')\n",
    "if name in cast:\n",
    "    print(\"yes,\", name, \"is here\")"
   ]
  },
  {
   "cell_type": "markdown",
   "metadata": {},
   "source": [
    "Use the _if_, _elif_, _else_ structure shown on Page 31 to write a cell that asks for a number and then prints one of the following statements if it is true: \"your number is even\", \"your number is odd\" or \"your number is even and is 42\". Hints: you will have to change the type of the input after it's entered. And, the order of your tests matters."
   ]
  },
  {
   "cell_type": "code",
   "execution_count": null,
   "metadata": {
    "collapsed": false
   },
   "outputs": [],
   "source": [
    "# Solution\n",
    "entry = input(\"Enter your number: \")\n",
    "number = float(entry)\n",
    "if number == 42:\n",
    "    print(\"your number is 42\")\n",
    "elif (number % 2) == 0:\n",
    "    print(\"your number is even\")\n",
    "else:\n",
    "    print(\"your number is odd\")"
   ]
  },
  {
   "cell_type": "markdown",
   "metadata": {},
   "source": [
    "The _while_ loop is occasionally useful, but can be hard to get right. These rules will help, courtesy of <a href=\"http://learnpythonthehardway.org/book/ex33.html\">Learn Python the Hard Way</a>:\n",
    "1. Make sure that you use while-loops sparingly. Usually a for-loop is better.\n",
    "2. Review your while statements and make sure that the boolean test will become False at some point.\n",
    "3. When in doubt, print out your test variable at the top and bottom of the while-loop to see what it's doing.\n",
    "\n",
    "An example of this last trick is shown here in a simple while loop that adds a value to a list each time through. Notice the `.append` method that adds items to the list."
   ]
  },
  {
   "cell_type": "code",
   "execution_count": null,
   "metadata": {
    "collapsed": false
   },
   "outputs": [],
   "source": [
    "i = 0\n",
    "numbers = []\n",
    "\n",
    "while i < 6:\n",
    "    print(\"At the top i is {}\".format(i))\n",
    "    numbers.append(i)\n",
    "\n",
    "    i = i + 1\n",
    "    print(\"Numbers now: \", numbers)\n",
    "    print(\"At the bottom i is {}\".format(i))\n",
    "\n",
    "\n",
    "print(\"The numbers after loop: \",numbers)"
   ]
  },
  {
   "cell_type": "markdown",
   "metadata": {},
   "source": [
    "### The all-powerful _for_ loop\n",
    "\n",
    "There are a number of ways to use the _for_ loop in python. The first, is most familiar if you have programmed before:"
   ]
  },
  {
   "cell_type": "code",
   "execution_count": null,
   "metadata": {
    "collapsed": false
   },
   "outputs": [],
   "source": [
    "for i in range(10):\n",
    "    print(i)"
   ]
  },
  {
   "cell_type": "markdown",
   "metadata": {},
   "source": [
    "### Following example 1.6.3, write a for loop that prints a message to each name in a list or tuple:"
   ]
  },
  {
   "cell_type": "code",
   "execution_count": null,
   "metadata": {
    "collapsed": true
   },
   "outputs": [],
   "source": [
    "# Solution"
   ]
  },
  {
   "cell_type": "markdown",
   "metadata": {},
   "source": [
    "There is another very clever way to use a for loop, it is called a list comprehension. This is a way to build a list by running a loop and saving the output in a list. You could do the same thing with a loop and the `.append` method, but it is very simple to just write a one-line version:"
   ]
  },
  {
   "cell_type": "code",
   "execution_count": null,
   "metadata": {
    "collapsed": false
   },
   "outputs": [],
   "source": [
    "# create a list of the squares\n",
    "[x**2 for x in range(10)]"
   ]
  },
  {
   "cell_type": "code",
   "execution_count": null,
   "metadata": {
    "collapsed": false
   },
   "outputs": [],
   "source": [
    "# or add the email domain to a list of users:\n",
    "[name+\"@pacific.edu\" for name in ['hall','dawes']]"
   ]
  },
  {
   "cell_type": "markdown",
   "metadata": {},
   "source": [
    "## Functions\n",
    "A function in python is a lot like a function in math. You've already used many of them: print, input, range, linspace... Functions have inputs, and generate (or `return`) outputs.\n",
    "\n",
    "Using example 1.7.2 as a guide, write a function called `cube` that returns the cube of a number."
   ]
  },
  {
   "cell_type": "code",
   "execution_count": null,
   "metadata": {
    "collapsed": true
   },
   "outputs": [],
   "source": [
    "# Solution"
   ]
  },
  {
   "cell_type": "markdown",
   "metadata": {},
   "source": [
    "Function arguments can be any kind of object, including other functions. Page 37 shows an example of this that is a trig-function plotter."
   ]
  },
  {
   "cell_type": "code",
   "execution_count": null,
   "metadata": {
    "collapsed": true
   },
   "outputs": [],
   "source": []
  }
 ],
 "metadata": {
  "kernelspec": {
   "display_name": "Python 3",
   "language": "python",
   "name": "python3"
  },
  "language_info": {
   "codemirror_mode": {
    "name": "ipython",
    "version": 3
   },
   "file_extension": ".py",
   "mimetype": "text/x-python",
   "name": "python",
   "nbconvert_exporter": "python",
   "pygments_lexer": "ipython3",
   "version": "3.5.1"
  }
 },
 "nbformat": 4,
 "nbformat_minor": 0
}
