{
 "cells": [
  {
   "cell_type": "markdown",
   "metadata": {},
   "source": [
    "# Lab 1: Basic Python\n",
    "## Physics 325\n",
    "### Spring 2016\n",
    "This lab will follow sections of Chapter 1 in __Computational Physics With Python__ by *Eric Ayars*\n",
    "The goals are to practice the following python fundamentals:\n",
    " * Input\n",
    " * Print formatting\n",
    " * Array slicing\n",
    " * Control structures\n",
    "     * For\n",
    "     * While\n",
    "     * If/else\n",
    " * Functions"
   ]
  },
  {
   "cell_type": "markdown",
   "metadata": {},
   "source": [
    "Input options. Often programs can benefit from live user input. This is less useful in the notebook but it still works in a clever way:"
   ]
  },
  {
   "cell_type": "code",
   "execution_count": null,
   "metadata": {
    "collapsed": false
   },
   "outputs": [],
   "source": [
    "name = input(\"My name is: \")"
   ]
  },
  {
   "cell_type": "markdown",
   "metadata": {},
   "source": [
    "Now we can print the value of the variable `name`. Notice that in comparison to the book, we have to use parenthesis in the `print` statement. In Python3, `print` is a function and therefore takes arguments between `(` and `)`."
   ]
  },
  {
   "cell_type": "code",
   "execution_count": null,
   "metadata": {
    "collapsed": false
   },
   "outputs": [],
   "source": [
    "print(name)"
   ]
  },
  {
   "cell_type": "markdown",
   "metadata": {},
   "source": [
    "**1) Write a single cell that asks for a numeric value and then prints that value multiplied by 10 in a statement that says \"Your value times ten is equal to <>\" where <> is replaced with the proper value**"
   ]
  },
  {
   "cell_type": "code",
   "execution_count": null,
   "metadata": {
    "collapsed": true
   },
   "outputs": [],
   "source": [
    "from numpy import int"
   ]
  },
  {
   "cell_type": "code",
   "execution_count": null,
   "metadata": {
    "collapsed": false
   },
   "outputs": [],
   "source": [
    "x=int(4.886E+6)\n",
    "print(\"x = {}\".format(x))"
   ]
  },
  {
   "cell_type": "code",
   "execution_count": null,
   "metadata": {
    "collapsed": false
   },
   "outputs": [],
   "source": [
    "# Solution\n",
    "value = input(\"Enter a number: \")\n",
    "print(\"Your value times ten is equal to:\",float(value)*10)"
   ]
  },
  {
   "cell_type": "markdown",
   "metadata": {},
   "source": [
    "There are many ways to use python to format printed strings. Unfortunately, the formatting examples on page 18 use an older-style string formatter that is not as automatic. Here is a quick overview of the newer style for python3:\n",
    "\n",
    "Write the string you want to display in quotes, and put a pair of curly braces `{}` wherever you want to have a variable appear. Then add the format method `.format()` with one argument per variable that needs to go in your string. That's it!"
   ]
  },
  {
   "cell_type": "code",
   "execution_count": null,
   "metadata": {
    "collapsed": false
   },
   "outputs": [],
   "source": [
    "\"{} is Pi\".format(3.14159)"
   ]
  },
  {
   "cell_type": "markdown",
   "metadata": {},
   "source": [
    "You can also specify rounding, format as a percentage, pick a different order, or select items from a list or array. For even more examples, <a href=\"https://docs.python.org/3.1/library/string.html\">read the docs</a>."
   ]
  },
  {
   "cell_type": "code",
   "execution_count": null,
   "metadata": {
    "collapsed": false
   },
   "outputs": [],
   "source": [
    "\"{:.6} is Pi rounded to 5 places\".format(3.14159265358979323)"
   ]
  },
  {
   "cell_type": "code",
   "execution_count": null,
   "metadata": {
    "collapsed": false
   },
   "outputs": [],
   "source": [
    "\"{:.1%} a percentage calculated from a fraction\".format(23/100)"
   ]
  },
  {
   "cell_type": "code",
   "execution_count": null,
   "metadata": {
    "collapsed": false
   },
   "outputs": [],
   "source": [
    "\"{2} is third, {1} is middle, {0} is first\".format(1,2,3)"
   ]
  },
  {
   "cell_type": "code",
   "execution_count": null,
   "metadata": {
    "collapsed": false
   },
   "outputs": [],
   "source": [
    "mylist = ['a','b']\n",
    "\"{0[0]} is the first item, and {0[1]} is the second item\".format(mylist)"
   ]
  },
  {
   "cell_type": "markdown",
   "metadata": {},
   "source": [
    "Using this knowledge, calculate the area of a circle with radius 23 cm. Print the area in square meters to 5 decimal places."
   ]
  },
  {
   "cell_type": "code",
   "execution_count": null,
   "metadata": {
    "collapsed": false
   },
   "outputs": [],
   "source": [
    "# Solution\n",
    "\"{:.6}\".format(3.14159*0.23**2)"
   ]
  },
  {
   "cell_type": "markdown",
   "metadata": {},
   "source": [
    "## Sequence types\n",
    "1. Write an example of each of the following sequence types: string, tuple, list, dictionary, array. In each case, select one element from the sequence in the appropriate way.\n",
    "2. How is the tuple different from the others?"
   ]
  },
  {
   "cell_type": "code",
   "execution_count": null,
   "metadata": {
    "collapsed": false
   },
   "outputs": [],
   "source": [
    "# Solution\n",
    "from numpy import array\n",
    "mystring = \"12345\"\n",
    "print(mystring[3])\n",
    "\n",
    "mytuple = (1,2,3,4,5)\n",
    "print(mytuple[3])\n",
    "\n",
    "mylist = [1,2,3,4,5]\n",
    "print(mylist[3])\n",
    "\n",
    "mydict = {1:5,2:3,5:3,7:5,3:4}\n",
    "print(mydict[3])\n",
    "\n",
    "myarray = array([1,2,3,4,5])\n",
    "print(myarray[3])\n",
    "\n",
    "# Tuple is immutable"
   ]
  },
  {
   "cell_type": "markdown",
   "metadata": {},
   "source": [
    "## Array slicing\n",
    "We will use arrays as one of the primary data types in this course. It is specifically built for numeric data and makes many mathematical operations very fast."
   ]
  },
  {
   "cell_type": "code",
   "execution_count": null,
   "metadata": {
    "collapsed": false
   },
   "outputs": [],
   "source": [
    "bigarray = array([[1,2,3,4,5,6,7,8,9],[2,4,6,8,10,12,14,16,18],[3,6,9,12,15,18,21,24,27]])\n",
    "bigarray"
   ]
  },
  {
   "cell_type": "code",
   "execution_count": null,
   "metadata": {
    "collapsed": false
   },
   "outputs": [],
   "source": [
    "# select all rows in the column 4:\n",
    "bigarray[:,4]"
   ]
  },
  {
   "cell_type": "code",
   "execution_count": null,
   "metadata": {
    "collapsed": false
   },
   "outputs": [],
   "source": [
    "# select row 2:\n",
    "bigarray[2,:]"
   ]
  },
  {
   "cell_type": "code",
   "execution_count": null,
   "metadata": {
    "collapsed": false
   },
   "outputs": [],
   "source": [
    "# select columns 4 through 6:\n",
    "bigarray[:,4:6]"
   ]
  },
  {
   "cell_type": "markdown",
   "metadata": {},
   "source": [
    "Why only two columns, aren't 4 through 6 three values: 4,5,6? It turns out \"slicing\" is like cutting with a knife, so the slice cuts _between_ the actual data in the array. The figure below helps illustrate this:\n",
    "<img src=\"http://www.bogotobogo.com/python/images/python_strings/string_diagram.png\">\n",
    "The figure also shows how negative slices work: they count backwards from the end of the array."
   ]
  },
  {
   "cell_type": "code",
   "execution_count": null,
   "metadata": {
    "collapsed": false
   },
   "outputs": [],
   "source": [
    "bigarray[:,-1]"
   ]
  },
  {
   "cell_type": "code",
   "execution_count": null,
   "metadata": {
    "collapsed": false
   },
   "outputs": [],
   "source": [
    "bigarray[:,-3:-1]"
   ]
  },
  {
   "cell_type": "markdown",
   "metadata": {
    "collapsed": true
   },
   "source": [
    "Notice that a slice that uses a range of negative values, still goes from right to left (largest negative first)."
   ]
  },
  {
   "cell_type": "code",
   "execution_count": null,
   "metadata": {
    "collapsed": false
   },
   "outputs": [],
   "source": [
    "bigarray[:,-1:-3]"
   ]
  },
  {
   "cell_type": "markdown",
   "metadata": {},
   "source": [
    "Otherwise it returns an empty array.\n",
    "\n",
    "The last tidbit of slicing is skip-slicing or strided-slicing. You can add a _third_ element after a second colon to specify the stride of the slice (i.e. how many slices to skip):"
   ]
  },
  {
   "cell_type": "code",
   "execution_count": null,
   "metadata": {
    "collapsed": false
   },
   "outputs": [],
   "source": [
    "bigarray[:,0:4:2]"
   ]
  },
  {
   "cell_type": "markdown",
   "metadata": {},
   "source": [
    "The first two numbers can be left out if you just want to get every other (or every nth) item:"
   ]
  },
  {
   "cell_type": "code",
   "execution_count": null,
   "metadata": {
    "collapsed": false
   },
   "outputs": [],
   "source": [
    "bigarray[:,::2]"
   ]
  },
  {
   "cell_type": "code",
   "execution_count": null,
   "metadata": {
    "collapsed": false
   },
   "outputs": [],
   "source": [
    "bigarray[:,::3]"
   ]
  },
  {
   "cell_type": "markdown",
   "metadata": {},
   "source": [
    "These are all really useful when you need them, but it doesn't turn out to be needed often.\n",
    "\n",
    "## Control structures\n",
    "\n",
    "Controlling the flow of a program is arguably the most important aspect of computer programming, and what makes programs so good at solving repetative problems. If you face a problem where the solution involves doing the same operation many times or on many objects, then a computer program is a great way to solve your problem. Python has three major control structures: _If_, _While_, and _For_.\n",
    "\n",
    "These are discussed in the book starting on Page 29.\n",
    "\n",
    "To understand _If_, you need to practice the conditionals and comparisons on Page 29. After running this first example, create four more comparisons that evaluate to True, and four that evaluate to False. Try to use different types of comparisons, and different object types (string, float, int, complex)."
   ]
  },
  {
   "cell_type": "code",
   "execution_count": null,
   "metadata": {
    "collapsed": false
   },
   "outputs": [],
   "source": [
    "5 > 2"
   ]
  },
  {
   "cell_type": "markdown",
   "metadata": {},
   "source": [
    "Use the syntax in example 1.6.1 to write two more _if_ statements using comparisons:"
   ]
  },
  {
   "cell_type": "code",
   "execution_count": null,
   "metadata": {
    "collapsed": false
   },
   "outputs": [],
   "source": [
    "from numpy import pi\n",
    "value = 3.14159\n",
    "if value > pi:\n",
    "    print(\"bigger\")"
   ]
  },
  {
   "cell_type": "markdown",
   "metadata": {},
   "source": [
    "There is a handy kind of _if_ that lets you test items in a list:"
   ]
  },
  {
   "cell_type": "code",
   "execution_count": null,
   "metadata": {
    "collapsed": false
   },
   "outputs": [],
   "source": [
    "name = 'Terry'\n",
    "cast = ('John', 'Eric', 'Terry', 'Graham', 'Terry', 'Michael')\n",
    "if name in cast:\n",
    "    print(\"yes,\", name, \"is here\")"
   ]
  },
  {
   "cell_type": "markdown",
   "metadata": {},
   "source": [
    "Use the _if_, _elif_, _else_ structure shown on Page 31 to write a cell that asks for a number and then prints one of the following statements if it is true: \"your number is even\", \"your number is odd\" or \"your number is even and is 42\". Hints: you will have to change the type of the input after it's entered. And, the order of your tests matters."
   ]
  },
  {
   "cell_type": "code",
   "execution_count": null,
   "metadata": {
    "collapsed": false
   },
   "outputs": [],
   "source": [
    "# Solution\n",
    "entry = input(\"Enter your number: \")\n",
    "number = float(entry)\n",
    "if number == 42:\n",
    "    print(\"your number is 42\")\n",
    "elif (number % 2) == 0:\n",
    "    print(\"your number is even\")\n",
    "else:\n",
    "    print(\"your number is odd\")"
   ]
  },
  {
   "cell_type": "code",
   "execution_count": 12,
   "metadata": {
    "collapsed": false
   },
   "outputs": [
    {
     "name": "stdout",
     "output_type": "stream",
     "text": [
      "Enter your number: 42\n",
      "your number is 42 and even\n"
     ]
    }
   ],
   "source": [
    "# Solution (alternate)\n",
    "entry = input(\"Enter your number: \")\n",
    "number = float(entry)\n",
    "if (number % 2) == 0:\n",
    "    if number == 42:\n",
    "        print(\"your number is 42 and even\")\n",
    "    else: \n",
    "        print(\"your number is even\")\n",
    "else:\n",
    "    print(\"your number is odd\")"
   ]
  },
  {
   "cell_type": "markdown",
   "metadata": {},
   "source": [
    "The _while_ loop is occasionally useful, but can be hard to get right. These rules will help, courtesy of <a href=\"http://learnpythonthehardway.org/book/ex33.html\">Learn Python the Hard Way</a>:\n",
    "1. Make sure that you use while-loops sparingly. Usually a for-loop is better.\n",
    "2. Review your while statements and make sure that the boolean test will become False at some point.\n",
    "3. When in doubt, print out your test variable at the top and bottom of the while-loop to see what it's doing.\n",
    "\n",
    "An example of this last trick is shown here in a simple while loop that adds a value to a list each time through. Notice the `.append` method that adds items to the list."
   ]
  },
  {
   "cell_type": "code",
   "execution_count": null,
   "metadata": {
    "collapsed": false
   },
   "outputs": [],
   "source": [
    "i = 0\n",
    "numbers = []\n",
    "\n",
    "while i < 6:\n",
    "    print(\"At the top i is {}\".format(i))\n",
    "    numbers.append(i)\n",
    "\n",
    "    i = i + 1\n",
    "    print(\"Numbers now: \", numbers)\n",
    "    print(\"At the bottom i is {}\".format(i))\n",
    "\n",
    "\n",
    "print(\"The numbers after loop: \",numbers)"
   ]
  },
  {
   "cell_type": "markdown",
   "metadata": {},
   "source": [
    "### The all-powerful _for_ loop\n",
    "\n",
    "There are a number of ways to use the _for_ loop in python. The first is most familiar if you have programmed before:"
   ]
  },
  {
   "cell_type": "code",
   "execution_count": null,
   "metadata": {
    "collapsed": false
   },
   "outputs": [],
   "source": [
    "for i in range(10):\n",
    "    print(i)"
   ]
  },
  {
   "cell_type": "markdown",
   "metadata": {},
   "source": [
    "### Following example 1.6.3, write a for loop that prints a message for each name in a list or tuple:"
   ]
  },
  {
   "cell_type": "code",
   "execution_count": null,
   "metadata": {
    "collapsed": false
   },
   "outputs": [],
   "source": [
    "# Solution\n",
    "prizes=[\"teddy bears\",\"lions\",\"barbie dolls\",\"monster trucks\"]\n",
    "n=2\n",
    "for prize in prizes:\n",
    "    print(\"Congratulations, you have won {} {}\".format(n, prize))\n",
    "    n+=1\n",
    "print(\"You lucky dog!\")"
   ]
  },
  {
   "cell_type": "code",
   "execution_count": null,
   "metadata": {
    "collapsed": false
   },
   "outputs": [],
   "source": [
    "# Solution\n",
    "\n",
    "Prizes={\"teddy bears\":5, \"lions\":2, \"barbie dolls\":7, \"monster trucks\":3}\n",
    "keys=[\"teddy bears\",\"lions\",\"barbie dolls\",\"monster trucks\"]\n",
    "for key in keys:\n",
    "    print(\"Congratulations, you have won {0} {1}\".format(Prizes[key],key))"
   ]
  },
  {
   "cell_type": "markdown",
   "metadata": {},
   "source": [
    "There is another very clever way to use a for loop, it is called a list comprehension. This is a way to build a list by running a loop and saving the output in a list. You could do the same thing with a loop and the `.append` method, but it is very simple to just write a one-line version:"
   ]
  },
  {
   "cell_type": "code",
   "execution_count": null,
   "metadata": {
    "collapsed": false
   },
   "outputs": [],
   "source": [
    "# create a list of the squares\n",
    "[x**2 for x in range(10)]"
   ]
  },
  {
   "cell_type": "code",
   "execution_count": null,
   "metadata": {
    "collapsed": false
   },
   "outputs": [],
   "source": [
    "# or add the email domain to a list of users:\n",
    "[name+\"@pacific.edu\" for name in ['hall','dawes']]"
   ]
  },
  {
   "cell_type": "markdown",
   "metadata": {},
   "source": [
    "Write a list comprehension to create a list of the sin of this array of angles: [(pi/32), 2(pi/32), 3(pi/32), 4(pi/32), ... , 10(pi/32)]  (You might use this array to determine when the small angle approximation is valid.)"
   ]
  },
  {
   "cell_type": "code",
   "execution_count": null,
   "metadata": {
    "collapsed": false
   },
   "outputs": [],
   "source": [
    "# Solution\n",
    "from numpy import sin, pi\n",
    "[[n*(pi/32),sin(n*(pi/32))] for n in range(10)]"
   ]
  },
  {
   "cell_type": "markdown",
   "metadata": {},
   "source": [
    "Write a script that inputs from the user a set of student names and grades.  After the user is finished inputing data,  output a line for each student that says “Student \"name\" has a grade of \"grade\"”.  Once you get this working, add a feature that allows the user to enter \"end\" for the name to have the input loop stop.\n",
    "\n"
   ]
  },
  {
   "cell_type": "code",
   "execution_count": null,
   "metadata": {
    "collapsed": false
   },
   "outputs": [],
   "source": [
    "# Solution\n",
    "N=3\n",
    "Names=[None]*N\n",
    "Grades=[None]*N\n",
    "for n in range(N):\n",
    "    Names[n]=input(\"Enter a student name: \")\n",
    "    Grades[n]=float(input(\"Enter the numeric grade for that student: \"))\n",
    "for (name, grade) in zip(Names,Grades):\n",
    "    print(\"Student {} has a grade of {}\".format(name,grade))"
   ]
  },
  {
   "cell_type": "code",
   "execution_count": null,
   "metadata": {
    "collapsed": false
   },
   "outputs": [],
   "source": [
    "# Solution\n",
    "N=3\n",
    "Names=[]\n",
    "Grades=[]\n",
    "for n in range(N):\n",
    "    Names.append(input(\"Enter a student name: \"))\n",
    "    Grades.append(float(input(\"Enter the numeric grade for that student: \")))\n",
    "for name, grade in zip(Names,Grades):\n",
    "    print(\"Student {} has a grade of {}\".format(name,grade))\n",
    "    "
   ]
  },
  {
   "cell_type": "code",
   "execution_count": 3,
   "metadata": {
    "collapsed": false
   },
   "outputs": [
    {
     "name": "stdout",
     "output_type": "stream",
     "text": [
      "Enter a student name: bob\n",
      "Enter the numeric grade for bob: 98\n",
      "Enter a student name: sally\n",
      "Enter the numeric grade for sally: 83\n",
      "Enter a student name: joe\n",
      "Enter the numeric grade for joe: 13\n",
      "Enter a student name: end\n",
      "Student bob has a grade of 98.0\n",
      "Student sally has a grade of 83.0\n",
      "Student joe has a grade of 13.0\n"
     ]
    }
   ],
   "source": [
    "# Solution\n",
    "Names=[]\n",
    "Grades=[]\n",
    "n=0\n",
    "while 1:\n",
    "    Names.append(input(\"Enter a student name: \"))\n",
    "    if Names[n] == \"end\":\n",
    "        break\n",
    "    Grades.append(float(input(\"Enter the numeric grade for {}: \".format(Names[n]))))\n",
    "    n+=1\n",
    "\n",
    "for name, grade in zip(Names,Grades):\n",
    "    print(\"Student {} has a grade of {}\".format(name,grade))\n",
    "\n",
    "\n"
   ]
  },
  {
   "cell_type": "markdown",
   "metadata": {},
   "source": [
    "## Functions\n",
    "A function in python is a lot like a function in math. You've already used many of them: print, input, range, linspace... Functions have inputs, and generate (or `return`) outputs.\n",
    "\n",
    "Using example 1.7.2 as a guide, write a function called `cube` that returns the cube of a number."
   ]
  },
  {
   "cell_type": "code",
   "execution_count": 13,
   "metadata": {
    "collapsed": true
   },
   "outputs": [],
   "source": [
    "# Solution\n",
    "def cube(x):\n",
    "    return x*x*x"
   ]
  },
  {
   "cell_type": "code",
   "execution_count": 16,
   "metadata": {
    "collapsed": false
   },
   "outputs": [
    {
     "name": "stdout",
     "output_type": "stream",
     "text": [
      "27\n",
      "27\n",
      "3\n"
     ]
    }
   ],
   "source": [
    "y=cube(3)\n",
    "print(y)\n",
    "z=3\n",
    "print(cube(z))\n",
    "print(z)"
   ]
  },
  {
   "cell_type": "markdown",
   "metadata": {},
   "source": [
    "Functions create their own local variables, which are unknown outside the function.  Look at example 1.7.2 and explain to yourself why x outside the function is still 3.  How would you alter the call to the function (not the function itself) to make x outside the function equal 9?\n",
    "Enter the code from example 1.7.3 and make sure you follow what happens.  Why doesn't the value of a change outside the function?  How would the behavior of the function change if you commented out the first two lines of the function?"
   ]
  },
  {
   "cell_type": "code",
   "execution_count": null,
   "metadata": {
    "collapsed": true
   },
   "outputs": [],
   "source": []
  },
  {
   "cell_type": "markdown",
   "metadata": {},
   "source": [
    "Write a funciton to take time, acceleration, initial velocity and initial position and return final position and final velocity. (You haven't seen any examples of functions returning two values -- Probably what you think would be the most natural way to do it is the way Python does it.) Also, make it so the default values of initial velocity and initial position are zero.  "
   ]
  },
  {
   "cell_type": "code",
   "execution_count": 37,
   "metadata": {
    "collapsed": true
   },
   "outputs": [],
   "source": [
    "# Solution\n",
    "# function to calculate the position and velocity for contant acceleration motion\n",
    "# inputs: time, acceleration, initial vel, initial pos\n",
    "# outputs: position, velocity\n",
    "def position(t, a, v_i=0, x_i=0):\n",
    "    x=x_i+v_i*t+0.5*a*t**2\n",
    "    v=v_i+a*t\n",
    "    return x,v"
   ]
  },
  {
   "cell_type": "code",
   "execution_count": 5,
   "metadata": {
    "collapsed": false
   },
   "outputs": [
    {
     "name": "stdout",
     "output_type": "stream",
     "text": [
      "228.0 70\n"
     ]
    }
   ],
   "source": [
    "# Solution\n",
    "a=10\n",
    "b=20\n",
    "c=3\n",
    "x=5\n",
    "y,v =position(x, a, b, c)\n",
    "print(y,v)\n",
    "\n"
   ]
  },
  {
   "cell_type": "markdown",
   "metadata": {},
   "source": [
    "Function arguments can be any kind of object, including other functions. Page 37 shows an example of this that is a trig-function plotter."
   ]
  },
  {
   "cell_type": "code",
   "execution_count": null,
   "metadata": {
    "collapsed": true
   },
   "outputs": [],
   "source": []
  },
  {
   "cell_type": "markdown",
   "metadata": {},
   "source": [
    "## Files for input and output\n",
    "\n",
    "Using section 1.8 as a guide, write a piece of code to read a text file that holds time values, use your function from above to calculate position and velocity for each time, and then output a file that has columns for time, position, velocity, separate by commas. Format the output so that it is in Scientific Notation with 6 sig figs.  For this task, don't use the loadtxt function. (You'll have to create the text file with time values.  You can \"hard wire\" the values of a, v_i, and x_i) "
   ]
  },
  {
   "cell_type": "code",
   "execution_count": 26,
   "metadata": {
    "collapsed": false
   },
   "outputs": [
    {
     "name": "stdout",
     "output_type": "stream",
     "text": [
      "1\n",
      "2\n",
      "3\n",
      "4\n",
      "5\n",
      "6\n",
      "7\n",
      "8\n",
      "9\n",
      "10\n"
     ]
    },
    {
     "data": {
      "text/plain": [
       "<function TextIOWrapper.close>"
      ]
     },
     "execution_count": 26,
     "metadata": {},
     "output_type": "execute_result"
    }
   ],
   "source": [
    "# Solution\n",
    "# Program to read time from input file, calculate position and velocity and write to output file\n",
    "#\n",
    "# Define file names, open files\n",
    "InFile=\"time.txt\"\n",
    "OutFile=\"PositionVelocityData.txt\"\n",
    "InFileHandle=open(InFile,'r')\n",
    "OutFileHandle=open(OutFile,'w')\n",
    "time=[]\n",
    "Input=[]\n",
    "\n",
    "# Read from input file\n",
    "# first, read all the lines at once\n",
    "Input = InFileHandle.readlines()\n",
    "\n",
    "# Now loop through input converting each line to a number and storing in time list\n",
    "\n",
    "for line in Input:\n",
    "    print(line.strip())\n",
    "    time.append(float(line))\n",
    "\n",
    "InFileHandle.close\n",
    "OutFileHandle.close"
   ]
  },
  {
   "cell_type": "code",
   "execution_count": 31,
   "metadata": {
    "collapsed": false
   },
   "outputs": [
    {
     "name": "stdout",
     "output_type": "stream",
     "text": [
      "1\n",
      "2\n",
      "3\n",
      "4\n",
      "5\n",
      "6\n",
      "7\n",
      "8\n",
      "9\n",
      "10\n"
     ]
    },
    {
     "data": {
      "text/plain": [
       "<function TextIOWrapper.close>"
      ]
     },
     "execution_count": 31,
     "metadata": {},
     "output_type": "execute_result"
    }
   ],
   "source": [
    "# Solution\n",
    "# Program to read time from input file, calculate position and velocity and write to output file\n",
    "# Alternate way to read in file, one line at a time\n",
    "#\n",
    "# Define file names, open files\n",
    "InFile=\"time.txt\"\n",
    "OutFile=\"PositionVelocityData.txt\"\n",
    "InFileHandle=open(InFile,'r')\n",
    "OutFileHandle=open(OutFile,'w')\n",
    "time=[]\n",
    "\n",
    "# Read from input file\n",
    "# alternatively, read one line at a time, but now I have to worry about reaching the end\n",
    "line = InFileHandle.readline().strip()\n",
    "while line !=\"\":\n",
    "# Now loop through input converting each line to a number and storing in time list\n",
    "    print(line)\n",
    "    time.append(float(line))\n",
    "    line=InFileHandle.readline().strip()\n",
    "\n",
    "InFileHandle.close\n",
    "OutFileHandle.close"
   ]
  },
  {
   "cell_type": "code",
   "execution_count": 51,
   "metadata": {
    "collapsed": false
   },
   "outputs": [
    {
     "name": "stdout",
     "output_type": "stream",
     "text": [
      "1\n",
      "2\n",
      "3\n",
      "4\n",
      "5\n",
      "6\n",
      "7\n",
      "8\n",
      "9\n",
      "10\n",
      "Name of Output file: PositionVelocityData.txt\n"
     ]
    },
    {
     "data": {
      "text/plain": [
       "<function TextIOWrapper.close>"
      ]
     },
     "execution_count": 51,
     "metadata": {},
     "output_type": "execute_result"
    }
   ],
   "source": [
    "# Solution\n",
    "# Program to read time from input file, calculate position and velocity and write to output file\n",
    "# Pythonic way to read in file\n",
    "#\n",
    "# Define file names, open files\n",
    "InFile=\"time.txt\"\n",
    "OutFile=\"PositionVelocityData.txt\"\n",
    "OutFileHandle=open(OutFile,'w')\n",
    "time=[]\n",
    "\n",
    "# Read from input file, the Python way\n",
    "with open(InFile) as f:\n",
    "    for line in f:\n",
    "# Now loop through input converting each line to a number and storing in time list\n",
    "        print(line.strip())\n",
    "        time.append(float(line.strip()))\n",
    "\n",
    "# loop over time and calculate positon and velocity using already defined function position()\n",
    "# set a, v_i and x_i by hand. Eventually read from file\n",
    "a=9.8\n",
    "v_i=2\n",
    "x_i=10\n",
    "positions=[]\n",
    "velocities=[]\n",
    "\n",
    "for t in time:\n",
    "    x,v = position(t, a, v_i, x_i)\n",
    "    positions.append(x)\n",
    "    velocities.append(v)\n",
    "\n",
    "# write out to file.  Note, this could be done inside previous loop\n",
    "print(\"Name of Output file: \"+OutFileHandle.name)\n",
    "\n",
    "for i in range(5): \n",
    "    OutFileHandle.write('test')\n",
    "#for t,x,v in zip(time,positions,velocities):\n",
    "#    print(\"{:6e}, {:6e}, {:6e}\\n\".format(t,x,v))\n",
    "#    OutFileHandle.write(\"{:6e}, {:6e}, {:6e}\\n\".format(t,x,v))\n",
    "\n",
    "OutFileHandle.close"
   ]
  },
  {
   "cell_type": "code",
   "execution_count": null,
   "metadata": {
    "collapsed": true
   },
   "outputs": [],
   "source": []
  }
 ],
 "metadata": {
  "kernelspec": {
   "display_name": "Python 3",
   "language": "python",
   "name": "python3"
  },
  "language_info": {
   "codemirror_mode": {
    "name": "ipython",
    "version": 3
   },
   "file_extension": ".py",
   "mimetype": "text/x-python",
   "name": "python",
   "nbconvert_exporter": "python",
   "pygments_lexer": "ipython3",
   "version": "3.5.1"
  }
 },
 "nbformat": 4,
 "nbformat_minor": 0
}
