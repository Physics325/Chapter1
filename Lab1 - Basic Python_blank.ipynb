{
 "metadata": {
  "kernelspec": {
   "display_name": "Python 3",
   "language": "python",
   "name": "python3"
  },
  "language_info": {
   "codemirror_mode": {
    "name": "ipython",
    "version": 3
   },
   "file_extension": ".py",
   "mimetype": "text/x-python",
   "name": "python",
   "nbconvert_exporter": "python",
   "pygments_lexer": "ipython3",
   "version": "3.5.1"
  },
  "name": ""
 },
 "nbformat": 3,
 "nbformat_minor": 0,
 "worksheets": [
  {
   "cells": [
    {
     "cell_type": "markdown",
     "metadata": {},
     "source": [
      "# Lab 1: Basic Python\n",
      "## Physics 325\n",
      "### Spring 2016\n",
      "This lab will follow sections of Chapter 1 in __Computational Physics With Python__ by *Eric Ayars*\n",
      "The goals are to practice the following python fundamentals:\n",
      " * Input\n",
      " * Print formatting\n",
      " * Array slicing\n",
      " * Control structures\n",
      "     * For\n",
      "     * While\n",
      "     * If/else\n",
      " * Functions"
     ]
    },
    {
     "cell_type": "markdown",
     "metadata": {},
     "source": [
      "Input options. Often programs can benefit from live user input. This is less useful in the notebook but it still works in a clever way:"
     ]
    },
    {
     "cell_type": "code",
     "collapsed": false,
     "input": [
      "name = input(\"My name is: \")"
     ],
     "language": "python",
     "metadata": {},
     "outputs": [],
     "prompt_number": null
    },
    {
     "cell_type": "markdown",
     "metadata": {},
     "source": [
      "Now we can print the value of the variable `name`. Notice that in comparison to the book, we have to use parenthesis in the `print` statement. In Python3, `print` is a function and therefore takes arguments between `(` and `)`."
     ]
    },
    {
     "cell_type": "code",
     "collapsed": false,
     "input": [
      "print(name)"
     ],
     "language": "python",
     "metadata": {},
     "outputs": [],
     "prompt_number": null
    },
    {
     "cell_type": "markdown",
     "metadata": {},
     "source": [
      "**1) Write a single cell that asks for a numeric value and then prints that value multiplied by 10 in a statement that says \"Your value times ten is equal to <>\" where <> is replaced with the proper value**"
     ]
    },
    {
     "cell_type": "code",
     "collapsed": true,
     "input": [
      "from numpy import int"
     ],
     "language": "python",
     "metadata": {},
     "outputs": [],
     "prompt_number": null
    },
    {
     "cell_type": "code",
     "collapsed": false,
     "input": [
      "x=int(4.886E+6)\n",
      "print(\"x = {}\".format(x))"
     ],
     "language": "python",
     "metadata": {},
     "outputs": [],
     "prompt_number": null
    },
    {
     "cell_type": "code",
     "collapsed": false,
     "input": [
      "# Solution goes here"
     ],
     "language": "python",
     "metadata": {},
     "outputs": [],
     "prompt_number": null
    },
    {
     "cell_type": "markdown",
     "metadata": {},
     "source": [
      "There are many ways to use python to format printed strings. Unfortunately, the formatting examples on page 18 use an older-style string formatter that is not as automatic. Here is a quick overview of the newer style for python3:\n",
      "\n",
      "Write the string you want to display in quotes, and put a pair of curly braces `{}` wherever you want to have a variable appear. Then add the format method `.format()` with one argument per variable that needs to go in your string. That's it!"
     ]
    },
    {
     "cell_type": "code",
     "collapsed": false,
     "input": [
      "\"{} is Pi\".format(3.14159)"
     ],
     "language": "python",
     "metadata": {},
     "outputs": [],
     "prompt_number": null
    },
    {
     "cell_type": "markdown",
     "metadata": {},
     "source": [
      "You can also specify rounding, format as a percentage, pick a different order, or select items from a list or array. For even more examples, <a href=\"https://docs.python.org/3.1/library/string.html\">read the docs</a>."
     ]
    },
    {
     "cell_type": "code",
     "collapsed": false,
     "input": [
      "\"{:.6} is Pi rounded to 5 places\".format(3.14159265358979323)"
     ],
     "language": "python",
     "metadata": {},
     "outputs": [],
     "prompt_number": null
    },
    {
     "cell_type": "code",
     "collapsed": false,
     "input": [
      "\"{:.1%} a percentage calculated from a fraction\".format(23/100)"
     ],
     "language": "python",
     "metadata": {},
     "outputs": [],
     "prompt_number": null
    },
    {
     "cell_type": "code",
     "collapsed": false,
     "input": [
      "\"{2} is third, {1} is middle, {0} is first\".format(1,2,3)"
     ],
     "language": "python",
     "metadata": {},
     "outputs": [],
     "prompt_number": null
    },
    {
     "cell_type": "code",
     "collapsed": false,
     "input": [
      "mylist = ['a','b']\n",
      "\"{0[0]} is the first item, and {0[1]} is the second item\".format(mylist)"
     ],
     "language": "python",
     "metadata": {},
     "outputs": [],
     "prompt_number": null
    },
    {
     "cell_type": "markdown",
     "metadata": {},
     "source": [
      "Using this knowledge, calculate the area of a circle with radius 23 cm. Print the area in square meters to 5 decimal places."
     ]
    },
    {
     "cell_type": "code",
     "collapsed": false,
     "input": [
      "# Solution goes here"
     ],
     "language": "python",
     "metadata": {},
     "outputs": [],
     "prompt_number": null
    },
    {
     "cell_type": "markdown",
     "metadata": {},
     "source": [
      "## Sequence types\n",
      "1. Write an example of each of the following sequence types: string, tuple, list, dictionary, array. In each case, select one element from the sequence in the appropriate way.\n",
      "2. How is the tuple different from the others?"
     ]
    },
    {
     "cell_type": "code",
     "collapsed": false,
     "input": [
      "# Solution goes here"
     ],
     "language": "python",
     "metadata": {},
     "outputs": [],
     "prompt_number": null
    },
    {
     "cell_type": "markdown",
     "metadata": {},
     "source": [
      "## Array slicing\n",
      "We will use arrays as one of the primary data types in this course. It is specifically built for numeric data and makes many mathematical operations very fast."
     ]
    },
    {
     "cell_type": "code",
     "collapsed": false,
     "input": [
      "bigarray = array([[1,2,3,4,5,6,7,8,9],[2,4,6,8,10,12,14,16,18],[3,6,9,12,15,18,21,24,27]])\n",
      "bigarray"
     ],
     "language": "python",
     "metadata": {},
     "outputs": [],
     "prompt_number": null
    },
    {
     "cell_type": "code",
     "collapsed": false,
     "input": [
      "# select all rows in the column 4:\n",
      "bigarray[:,4]"
     ],
     "language": "python",
     "metadata": {},
     "outputs": [],
     "prompt_number": null
    },
    {
     "cell_type": "code",
     "collapsed": false,
     "input": [
      "# select row 2:\n",
      "bigarray[2,:]"
     ],
     "language": "python",
     "metadata": {},
     "outputs": [],
     "prompt_number": null
    },
    {
     "cell_type": "code",
     "collapsed": false,
     "input": [
      "# select columns 4 through 6:\n",
      "bigarray[:,4:6]"
     ],
     "language": "python",
     "metadata": {},
     "outputs": [],
     "prompt_number": null
    },
    {
     "cell_type": "markdown",
     "metadata": {},
     "source": [
      "Why only two columns, aren't 4 through 6 three values: 4,5,6? It turns out \"slicing\" is like cutting with a knife, so the slice cuts _between_ the actual data in the array. The figure below helps illustrate this:\n",
      "<img src=\"http://www.bogotobogo.com/python/images/python_strings/string_diagram.png\">\n",
      "The figure also shows how negative slices work: they count backwards from the end of the array."
     ]
    },
    {
     "cell_type": "code",
     "collapsed": false,
     "input": [
      "bigarray[:,-1]"
     ],
     "language": "python",
     "metadata": {},
     "outputs": [],
     "prompt_number": null
    },
    {
     "cell_type": "code",
     "collapsed": false,
     "input": [
      "bigarray[:,-3:-1]"
     ],
     "language": "python",
     "metadata": {},
     "outputs": [],
     "prompt_number": null
    },
    {
     "cell_type": "markdown",
     "metadata": {
      "collapsed": true
     },
     "source": [
      "Notice that a slice that uses a range of negative values, still goes from right to left (largest negative first)."
     ]
    },
    {
     "cell_type": "code",
     "collapsed": false,
     "input": [
      "bigarray[:,-1:-3]"
     ],
     "language": "python",
     "metadata": {},
     "outputs": [],
     "prompt_number": null
    },
    {
     "cell_type": "markdown",
     "metadata": {},
     "source": [
      "Otherwise it returns an empty array.\n",
      "\n",
      "The last tidbit of slicing is skip-slicing or strided-slicing. You can add a _third_ element after a second colon to specify the stride of the slice (i.e. how many slices to skip):"
     ]
    },
    {
     "cell_type": "code",
     "collapsed": false,
     "input": [
      "bigarray[:,0:4:2]"
     ],
     "language": "python",
     "metadata": {},
     "outputs": [],
     "prompt_number": null
    },
    {
     "cell_type": "markdown",
     "metadata": {},
     "source": [
      "The first two numbers can be left out if you just want to get every other (or every nth) item:"
     ]
    },
    {
     "cell_type": "code",
     "collapsed": false,
     "input": [
      "bigarray[:,::2]"
     ],
     "language": "python",
     "metadata": {},
     "outputs": [],
     "prompt_number": null
    },
    {
     "cell_type": "code",
     "collapsed": false,
     "input": [
      "bigarray[:,::3]"
     ],
     "language": "python",
     "metadata": {},
     "outputs": [],
     "prompt_number": null
    },
    {
     "cell_type": "markdown",
     "metadata": {},
     "source": [
      "These are all really useful when you need them, but it doesn't turn out to be needed often.\n",
      "\n",
      "## Control structures\n",
      "\n",
      "Controlling the flow of a program is arguably the most important aspect of computer programming, and what makes programs so good at solving repetative problems. If you face a problem where the solution involves doing the same operation many times or on many objects, then a computer program is a great way to solve your problem. Python has three major control structures: _If_, _While_, and _For_.\n",
      "\n",
      "These are discussed in the book starting on Page 29.\n",
      "\n",
      "To understand _If_, you need to practice the conditionals and comparisons on Page 29. After running this first example, create four more comparisons that evaluate to True, and four that evaluate to False. Try to use different types of comparisons, and different object types (string, float, int, complex)."
     ]
    },
    {
     "cell_type": "code",
     "collapsed": false,
     "input": [
      "5 > 2"
     ],
     "language": "python",
     "metadata": {},
     "outputs": [],
     "prompt_number": null
    },
    {
     "cell_type": "markdown",
     "metadata": {},
     "source": [
      "Use the syntax in example 1.6.1 to write two more _if_ statements using comparisons:"
     ]
    },
    {
     "cell_type": "code",
     "collapsed": false,
     "input": [
      "from numpy import pi\n",
      "value = 3.14159\n",
      "if value > pi:\n",
      "    print(\"bigger\")"
     ],
     "language": "python",
     "metadata": {},
     "outputs": [],
     "prompt_number": null
    },
    {
     "cell_type": "markdown",
     "metadata": {},
     "source": [
      "There is a handy kind of _if_ that lets you test items in a list:"
     ]
    },
    {
     "cell_type": "code",
     "collapsed": false,
     "input": [
      "name = 'Terry'\n",
      "cast = ('John', 'Eric', 'Terry', 'Graham', 'Terry', 'Michael')\n",
      "if name in cast:\n",
      "    print(\"yes,\", name, \"is here\")"
     ],
     "language": "python",
     "metadata": {},
     "outputs": [],
     "prompt_number": null
    },
    {
     "cell_type": "markdown",
     "metadata": {},
     "source": [
      "Use the _if_, _elif_, _else_ structure shown on Page 31 to write a cell that asks for a number and then prints one of the following statements if it is true: \"your number is even\", \"your number is odd\" or \"your number is even and is 42\". Hints: you will have to change the type of the input after it's entered. And, the order of your tests matters."
     ]
    },
    {
     "cell_type": "code",
     "collapsed": false,
     "input": [
      "# Solution goes here"
     ],
     "language": "python",
     "metadata": {},
     "outputs": [],
     "prompt_number": null
    },
    {
     "cell_type": "code",
     "collapsed": false,
     "input": [
      "# Solution goes here"
     ],
     "language": "python",
     "metadata": {},
     "outputs": [],
     "prompt_number": 12
    },
    {
     "cell_type": "markdown",
     "metadata": {},
     "source": [
      "The _while_ loop is occasionally useful, but can be hard to get right. These rules will help, courtesy of <a href=\"http://learnpythonthehardway.org/book/ex33.html\">Learn Python the Hard Way</a>:\n",
      "1. Make sure that you use while-loops sparingly. Usually a for-loop is better.\n",
      "2. Review your while statements and make sure that the boolean test will become False at some point.\n",
      "3. When in doubt, print out your test variable at the top and bottom of the while-loop to see what it's doing.\n",
      "\n",
      "An example of this last trick is shown here in a simple while loop that adds a value to a list each time through. Notice the `.append` method that adds items to the list."
     ]
    },
    {
     "cell_type": "code",
     "collapsed": false,
     "input": [
      "i = 0\n",
      "numbers = []\n",
      "\n",
      "while i < 6:\n",
      "    print(\"At the top i is {}\".format(i))\n",
      "    numbers.append(i)\n",
      "\n",
      "    i = i + 1\n",
      "    print(\"Numbers now: \", numbers)\n",
      "    print(\"At the bottom i is {}\".format(i))\n",
      "\n",
      "\n",
      "print(\"The numbers after loop: \",numbers)"
     ],
     "language": "python",
     "metadata": {},
     "outputs": [],
     "prompt_number": null
    },
    {
     "cell_type": "markdown",
     "metadata": {},
     "source": [
      "### The all-powerful _for_ loop\n",
      "\n",
      "There are a number of ways to use the _for_ loop in python. The first is most familiar if you have programmed before:"
     ]
    },
    {
     "cell_type": "code",
     "collapsed": false,
     "input": [
      "for i in range(10):\n",
      "    print(i)"
     ],
     "language": "python",
     "metadata": {},
     "outputs": [],
     "prompt_number": null
    },
    {
     "cell_type": "heading",
     "level": 3,
     "metadata": {},
     "source": [
      "Following example 1.6.3, write a for loop that prints a message for each name in a list or tuple:"
     ]
    },
    {
     "cell_type": "code",
     "collapsed": false,
     "input": [
      "# Solution goes here"
     ],
     "language": "python",
     "metadata": {},
     "outputs": [],
     "prompt_number": null
    },
    {
     "cell_type": "code",
     "collapsed": false,
     "input": [
      "# Solution goes here"
     ],
     "language": "python",
     "metadata": {},
     "outputs": [],
     "prompt_number": null
    },
    {
     "cell_type": "markdown",
     "metadata": {},
     "source": [
      "There is another very clever way to use a for loop, it is called a list comprehension. This is a way to build a list by running a loop and saving the output in a list. You could do the same thing with a loop and the `.append` method, but it is very simple to just write a one-line version:"
     ]
    },
    {
     "cell_type": "code",
     "collapsed": false,
     "input": [
      "# create a list of the squares\n",
      "[x**2 for x in range(10)]"
     ],
     "language": "python",
     "metadata": {},
     "outputs": [],
     "prompt_number": null
    },
    {
     "cell_type": "code",
     "collapsed": false,
     "input": [
      "# or add the email domain to a list of users:\n",
      "[name+\"@pacific.edu\" for name in ['hall','dawes']]"
     ],
     "language": "python",
     "metadata": {},
     "outputs": [],
     "prompt_number": null
    },
    {
     "cell_type": "markdown",
     "metadata": {},
     "source": [
      "Write a list comprehension to create a list of the sin of this array of angles: [(pi/32), 2(pi/32), 3(pi/32), 4(pi/32), ... , 10(pi/32)]  (You might use this array to determine when the small angle approximation is valid.)"
     ]
    },
    {
     "cell_type": "code",
     "collapsed": false,
     "input": [
      "# Solution goes here"
     ],
     "language": "python",
     "metadata": {},
     "outputs": [],
     "prompt_number": null
    },
    {
     "cell_type": "markdown",
     "metadata": {},
     "source": [
      "Write a script that inputs from the user a set of student names and grades.  After the user is finished inputing data,  output a line for each student that says \u201cStudent \"name\" has a grade of \"grade\"\u201d.  Once you get this working, add a feature that allows the user to enter \"end\" for the name to have the input loop stop.\n",
      "\n"
     ]
    },
    {
     "cell_type": "code",
     "collapsed": false,
     "input": [
      "# Solution goes here"
     ],
     "language": "python",
     "metadata": {},
     "outputs": [],
     "prompt_number": null
    },
    {
     "cell_type": "code",
     "collapsed": false,
     "input": [
      "# Solution goes here"
     ],
     "language": "python",
     "metadata": {},
     "outputs": [],
     "prompt_number": null
    },
    {
     "cell_type": "code",
     "collapsed": false,
     "input": [
      "# Solution goes here"
     ],
     "language": "python",
     "metadata": {},
     "outputs": [],
     "prompt_number": 3
    },
    {
     "cell_type": "markdown",
     "metadata": {},
     "source": [
      "## Functions\n",
      "A function in python is a lot like a function in math. You've already used many of them: print, input, range, linspace... Functions have inputs, and generate (or `return`) outputs.\n",
      "\n",
      "Using example 1.7.2 as a guide, write a function called `cube` that returns the cube of a number."
     ]
    },
    {
     "cell_type": "code",
     "collapsed": true,
     "input": [
      "# Solution goes here"
     ],
     "language": "python",
     "metadata": {},
     "outputs": [],
     "prompt_number": 13
    },
    {
     "cell_type": "code",
     "collapsed": false,
     "input": [
      "y=cube(3)\n",
      "print(y)\n",
      "z=3\n",
      "print(cube(z))\n",
      "print(z)"
     ],
     "language": "python",
     "metadata": {},
     "outputs": [
      {
       "output_type": "stream",
       "stream": "stdout",
       "text": [
        "27\n",
        "27\n",
        "3\n"
       ]
      }
     ],
     "prompt_number": 16
    },
    {
     "cell_type": "markdown",
     "metadata": {},
     "source": [
      "Functions create their own local variables, which are unknown outside the function.  Look at example 1.7.2 and explain to yourself why x outside the function is still 3.  How would you alter the call to the function (not the function itself) to make x outside the function equal 9?\n",
      "Enter the code from example 1.7.3 and make sure you follow what happens.  Why doesn't the value of a change outside the function?  How would the behavior of the function change if you commented out the first two lines of the function?"
     ]
    },
    {
     "cell_type": "code",
     "collapsed": true,
     "input": [],
     "language": "python",
     "metadata": {},
     "outputs": [],
     "prompt_number": null
    },
    {
     "cell_type": "markdown",
     "metadata": {},
     "source": [
      "Write a funciton to take time, acceleration, initial velocity and initial position and return final position and final velocity. (You haven't seen any examples of functions returning two values -- Probably what you think would be the most natural way to do it is the way Python does it.) Also, make it so the default values of initial velocity and initial position are zero.  "
     ]
    },
    {
     "cell_type": "code",
     "collapsed": true,
     "input": [
      "# Solution goes here"
     ],
     "language": "python",
     "metadata": {},
     "outputs": [],
     "prompt_number": 37
    },
    {
     "cell_type": "code",
     "collapsed": false,
     "input": [
      "# Solution goes here"
     ],
     "language": "python",
     "metadata": {},
     "outputs": [],
     "prompt_number": 5
    },
    {
     "cell_type": "markdown",
     "metadata": {},
     "source": [
      "Function arguments can be any kind of object, including other functions. Page 37 shows an example of this that is a trig-function plotter."
     ]
    },
    {
     "cell_type": "code",
     "collapsed": true,
     "input": [],
     "language": "python",
     "metadata": {},
     "outputs": [],
     "prompt_number": null
    },
    {
     "cell_type": "markdown",
     "metadata": {},
     "source": [
      "## Files for input and output\n",
      "\n",
      "Using section 1.8 as a guide, write a piece of code to read a text file that holds time values, use your function from above to calculate position and velocity for each time, and then output a file that has columns for time, position, velocity, separate by commas. Format the output so that it is in Scientific Notation with 6 sig figs.  For this task, don't use the loadtxt function. (You'll have to create the text file with time values.  You can \"hard wire\" the values of a, v_i, and x_i) "
     ]
    },
    {
     "cell_type": "code",
     "collapsed": false,
     "input": [
      "# Solution goes here"
     ],
     "language": "python",
     "metadata": {},
     "outputs": [],
     "prompt_number": 26
    },
    {
     "cell_type": "code",
     "collapsed": false,
     "input": [
      "# Solution goes here"
     ],
     "language": "python",
     "metadata": {},
     "outputs": [],
     "prompt_number": 31
    },
    {
     "cell_type": "code",
     "collapsed": false,
     "input": [
      "# Solution goes here"
     ],
     "language": "python",
     "metadata": {},
     "outputs": [],
     "prompt_number": 51
    },
    {
     "cell_type": "code",
     "collapsed": true,
     "input": [],
     "language": "python",
     "metadata": {},
     "outputs": [],
     "prompt_number": null
    }
   ],
   "metadata": {}
  }
 ]
}